{
 "cells": [
  {
   "cell_type": "markdown",
   "metadata": {},
   "source": [
    "# Бинарники из python через Nuitka компилятор, обзор и небольшое исследование"
   ]
  },
  {
   "cell_type": "markdown",
   "metadata": {},
   "source": [
    "![](nuitka_white.png)"
   ]
  },
  {
   "cell_type": "markdown",
   "metadata": {},
   "source": [
    "Здравствуйте, дорогие хабровчане. В этом небольшом исследовании я хочу показать, как компилировать бинарные модули расширения (.so) из python файлов, чем они будут отличаться и как с ними работать. Nuitka наиболее известна тем, что на ней можно создавать исполняемые файлы (.exe) для windows, но кроме того через неё можно также делать бинарные модули python.\n",
    "\n",
    "Всем, кому это интересно прошу под кат."
   ]
  },
  {
   "cell_type": "markdown",
   "metadata": {},
   "source": [
    "### 1. Nuitka, обзор"
   ]
  },
  {
   "cell_type": "markdown",
   "metadata": {},
   "source": [
    "Так как [nuitka](https://github.com/Nuitka/Nuitka) сперва генерирует Cи код и потом компилирует бинарник с помощью С/С++ компилятора, то чтобы всё корректно работало необходимо иметь, и если нет, то доустановить:\n",
    "- С/С++ компилятор, т.к. я всё делаю на linux, то в моём случае gcc не ниже версии 5.1\n",
    "- Python версии 2.6, 2.7 или 3.3 - 3.10, в моём случае python 3.10\n",
    "\n",
    "Подробнее см: https://github.com/Nuitka/Nuitka#requirements\n",
    "\n",
    "**Примечание**: название nuitka получилось из имени жены разработчика пакета (Kay Hayen), её зовут Анна, логика примерно такая: Anna -> Annuitka -> Nuitka, Annuitka это вроде должно звучать как Анютка, сам разработчик из Германии.\n",
    "\n",
    "Почему nuitka это именно компилятор, потому, что python скрипт действительно компилируется в бинарный код (хотя конечно работает тут компилятор C/C++).\n",
    "\n",
    "Самое главное достоинство в том, что этот бинарный модуль можно импортировать и использовать как обычный python скрипт. Какие же отличия в таком случае можно рассмотреть? Конечно, самое очевидное для конечного разработчика это невозможность посмотреть исходный код модуля, но кроме этого это AST дерево и имя модуля (как будет показано дальше, именно имя модуля, а не название файла).\n",
    "\n",
    "[Репозиторий с исходным кодом — на GitHub](https://github.com/cdies/nuitka_module).\n",
    "\n",
    "Для примера будет использоваться очень простой python скрипт (файл [`py/bin_module.py`](https://github.com/cdies/nuitka_module/blob/main/py/bin_module.py)):"
   ]
  },
  {
   "cell_type": "code",
   "execution_count": 2,
   "metadata": {},
   "outputs": [],
   "source": [
    "text = 'Find me!'\n",
    "\n",
    "class Dummy:\n",
    "    password = 'qweasd123'\n",
    "    def main(self):\n",
    "        print('Hello world!')"
   ]
  },
  {
   "cell_type": "markdown",
   "metadata": {},
   "source": [
    "Я буду всё делать в окружении [conda](https://www.anaconda.com/), тем более, что в нём же можно установить gcc компилятор:\n",
    "\n",
    "`conda create -n nuitka_module python=3.10 gcc\">=5.1\" nuitka=1.3.6 ordered-set\">=3.0\" -c conda-forge`\n",
    "\n",
    "**Примечание**: не забудьте только активировать его: `conda activate nuitka_module`, также пакет может быть установлен через `pip`.\n",
    "\n",
    "В nuitka можно компилировать модуль вместе с зависимостями, на мой взгляд, это не очень удобно, ведь если что-то в импортируемом скрипте поменяется, то нужно будет перекомпилировать все файлы. Куда проще компилировать каждый отдельный модуль независимо (хотя это не всегда так, бывает и строго наоборот). Я запускаю компилятор с такими ключами:\n",
    "\n",
    "`nuitka --module --nofollow-imports --static-libpython=no --remove-output --no-pyi-file --output-dir=so --jobs=4 py/bin_module.py`\n",
    "\n",
    "рассмотрим подробнее ключи:\n",
    "- `--module` ключ для компиляции бинарного модуля\n",
    "- `--nofollow-imports` не компилирует зависимые модули\n",
    "- `--static-libpython=no` не нужно ничего брать из conda\n",
    "- `--remove-output` удаляет после работы сгенерированные из python модуля Си файлы\n",
    "- `--no-pyi-file` после компиляции создается текстовый файл .pyi в котором имеется информация о структуре исходного python модуля, он нам тоже не нужен\n",
    "- `--output-dir=so` сохраняет бинарный модуль в папке `so`\n",
    "- `--jobs=4` компилирует в 4 потока\n",
    "\n",
    "<b>Важно обратить внимание</b>, что скомпилированный модуль можно будет запустить только в той же версии python, в какой он и был скомпилирован. Это происходит из-за того, что модуль загружается конкретной версией CPython, в которой был создан. Простыми словами, если я скомпилировал бинарник в python 3.10, значит и запускать его надо в python 3.10, в других версиях python будут генерироваться ошибки при попытки его импортировать.\n",
    "\n",
    "На выходе получаем бинарный модуль [`so/bin_module.cpython-310-x86_64-linux-gnu.so`](https://github.com/cdies/nuitka_module/tree/main/so)."
   ]
  },
  {
   "cell_type": "markdown",
   "metadata": {},
   "source": [
    "### 2. AST дерево"
   ]
  },
  {
   "cell_type": "markdown",
   "metadata": {},
   "source": [
    "Абстрактное синтаксическое дерево или [AST дерево](https://docs.python.org/3/library/ast.html) - это, в сущности, полное описание внутренней логики python модуля. Как ни странно, но тут объяснение самое простое, конечный бинарный модуль в nuitka компилируется из Си файлов, т.е. питоновского абстрактного дерева в нём нет по определению, однако проверим это (файл [`ast_tree.py`](https://github.com/cdies/nuitka_module/blob/main/ast_tree.py)):"
   ]
  },
  {
   "cell_type": "code",
   "execution_count": 1,
   "metadata": {},
   "outputs": [],
   "source": [
    "import ast\n",
    "from pathlib import Path\n",
    "\n",
    "def pretty_print(text):\n",
    "    print(f'{text[:160]} \\n...\\n {text[-100:]}')\n",
    "\n",
    "so_file_module = Path('so/bin_module.cpython-310-x86_64-linux-gnu.so').read_bytes()\n",
    "so_file_module = str(so_file_module)\n",
    "so_dump = ast.dump(ast.parse(so_file_module), indent=2)\n",
    "\n",
    "py_file_module = Path('py/bin_module.py').read_text()\n",
    "py_dump = ast.dump(ast.parse(py_file_module), indent=2)"
   ]
  },
  {
   "cell_type": "markdown",
   "metadata": {},
   "source": [
    "Как и следовало ожидать, в бинарном модуле, скомпилированном C/C++ компилятором нет абстрактного дерева в том виде, в каком мы его ожидаем увидеть, вместо него там чистый байт код:"
   ]
  },
  {
   "cell_type": "code",
   "execution_count": 3,
   "metadata": {},
   "outputs": [
    {
     "name": "stdout",
     "output_type": "stream",
     "text": [
      "Module(\n",
      "  body=[\n",
      "    Expr(\n",
      "      value=Constant(value=b'\\x7fELF\\x02\\x01\\x01\\x00\\x00\\x00\\x00\\x00\\x00\\x00\\x00\\x00\\x03\\x00>\\x00\\x01\\x00\\x00\\x00\\x00\\x00\\x00\\x00\\x00 \n",
      "...\n",
      " \\x00\\x00\\x00\\x01\\x00\\x00\\x00\\x00\\x00\\x00\\x00\\x00\\x00\\x00\\x00\\x00\\x00\\x00\\x00'))],\n",
      "  type_ignores=[])\n"
     ]
    }
   ],
   "source": [
    "pretty_print(so_dump)"
   ]
  },
  {
   "cell_type": "markdown",
   "metadata": {},
   "source": [
    "А вот в исходном питоновском файле содержится полноценное абстрактное дерево:"
   ]
  },
  {
   "cell_type": "code",
   "execution_count": 4,
   "metadata": {},
   "outputs": [
    {
     "name": "stdout",
     "output_type": "stream",
     "text": [
      "Module(\n",
      "  body=[\n",
      "    Assign(\n",
      "      targets=[\n",
      "        Name(id='text', ctx=Store())],\n",
      "      value=Constant(value='Find me!')),\n",
      "    ClassDef(\n",
      "      name='Dummy',\n",
      "  \n",
      "...\n",
      "         keywords=[]))],\n",
      "          decorator_list=[])],\n",
      "      decorator_list=[])],\n",
      "  type_ignores=[])\n"
     ]
    }
   ],
   "source": [
    "pretty_print(py_dump)"
   ]
  },
  {
   "cell_type": "markdown",
   "metadata": {},
   "source": [
    "### 3. Имя бинарного модуля"
   ]
  },
  {
   "cell_type": "markdown",
   "metadata": {},
   "source": [
    "В большинстве случаев не стоит менять название бинарного модуля, т.к. если его переназвать, то можно получить ошибку на этапе импорта.\n",
    "\n",
    "**Примечание**: изменить название можно, если удалить текст между точками, нельзя менять первое слово перед точкой и расширение, например, вполне валидное изменение:\n",
    "- `bin_module.cpython-310-x86_64-linux-gnu.so` - исходное название\n",
    "- `bin_module.so` - валидное изменение\n",
    "\n",
    "Имя модуля завязано на название бинарного файла при обычном импорте. Однако, нельзя менять именно имя модуля, название самого файла, как будет показано ниже, изменить вполне можно. Для этого поменяем название бинарника на [`custom_name_module.so`](https://github.com/cdies/nuitka_module/tree/main/so) и воспользуемся библиотекой [`importlib`](https://docs.python.org/3/library/importlib.html) (файл [`import_lib.py`](https://github.com/cdies/nuitka_module/blob/main/import_lib.py)):"
   ]
  },
  {
   "cell_type": "code",
   "execution_count": 5,
   "metadata": {},
   "outputs": [],
   "source": [
    "import importlib.util\n",
    "import sys\n",
    "from pathlib import Path\n",
    "\n",
    "module_name = 'bin_module' # Название модуля без изменений\n",
    "file_path = Path('so/custom_name_module.so') # А вот имя файла изменено\n",
    "\n",
    "spec = importlib.util.spec_from_file_location(module_name, file_path)\n",
    "module = importlib.util.module_from_spec(spec)\n",
    "sys.modules[module_name] = module\n",
    "spec.loader.exec_module(module)"
   ]
  },
  {
   "cell_type": "markdown",
   "metadata": {},
   "source": [
    "Как видно по атрибутам модуля, он вполне себе загрузился:"
   ]
  },
  {
   "cell_type": "code",
   "execution_count": 6,
   "metadata": {},
   "outputs": [
    {
     "name": "stdout",
     "output_type": "stream",
     "text": [
      "['Dummy', '__builtins__', '__cached__', '__compiled__', '__doc__', '__file__', '__loader__', '__name__', '__package__', '__spec__', 'text']\n"
     ]
    }
   ],
   "source": [
    "print(dir(module))"
   ]
  },
  {
   "cell_type": "markdown",
   "metadata": {},
   "source": [
    "А вот подобная попытка приведёт к ошибке:"
   ]
  },
  {
   "cell_type": "code",
   "execution_count": 2,
   "metadata": {},
   "outputs": [
    {
     "ename": "ImportError",
     "evalue": "dynamic module does not define module export function (PyInit_custom_name_module)",
     "output_type": "error",
     "traceback": [
      "\u001b[0;31m---------------------------------------------------------------------------\u001b[0m",
      "\u001b[0;31mImportError\u001b[0m                               Traceback (most recent call last)",
      "Cell \u001b[0;32mIn[2], line 1\u001b[0m\n\u001b[0;32m----> 1\u001b[0m \u001b[38;5;28;01mfrom\u001b[39;00m \u001b[38;5;21;01mso\u001b[39;00m \u001b[38;5;28;01mimport\u001b[39;00m custom_name_module\n",
      "\u001b[0;31mImportError\u001b[0m: dynamic module does not define module export function (PyInit_custom_name_module)"
     ]
    }
   ],
   "source": [
    "from so import custom_name_module"
   ]
  },
  {
   "cell_type": "markdown",
   "metadata": {},
   "source": [
    "То, что можно менять название питоновского файла как угодно, это и так ясно, в этом случае можно примеров не приводить."
   ]
  },
  {
   "cell_type": "markdown",
   "metadata": {},
   "source": [
    "### 4. Декомпиляция"
   ]
  },
  {
   "cell_type": "markdown",
   "metadata": {},
   "source": [
    "Рассмотрим подробнее, что же внутри бинарника, так ли он хорошо всё скрывает с точки зрения безопасности. Автор конечно не мастер реверс инжиниринга, да и статья не про то, но всё же посмотрим, что можно сделать. Для начала воспользуемся декомпилятором (или любым hex редактором, я буду использовать [ghidra](https://github.com/NationalSecurityAgency/ghidra)), в самом простом виде, найдём место, где лежит переменная `text`, посмотрим, что там есть ещё и попробуем поменять вывод с `Hello world!` на `Some change!`.\n",
    "\n",
    "**Примечание**: более подробно можно посмотреть в [этом](https://www.youtube.com/watch?v=2xUqLLQu0NI) примере.\n",
    "\n",
    "Рассмотрим подробнее часть hex кода бинарного модуля из декомпилятора ghidra, стрелками `<------` отмечены интересующие нас строки (файл [part_of_hex_code_decompiler.txt](https://github.com/cdies/nuitka_module/blob/main/compare/part_of_hex_code_decompiler.txt)):"
   ]
  },
  {
   "cell_type": "markdown",
   "metadata": {},
   "source": [
    " ```bash\n",
    "001903c9  75 48 65 6c      ds         \"uHello world!\" <------\n",
    "           6c 6f 20 77 \n",
    "           6f 72 6c 64 \n",
    "001903d7  61 5f 5f 64      ds         \"a__doc__\"\n",
    "           6f 63 5f 5f 00\n",
    "001903e0  61 5f 5f 66      ds         \"a__file__\"\n",
    "           69 6c 65 5f \n",
    "           5f 00\n",
    "001903ea  61 5f 5f 73      ds         \"a__spec__\"\n",
    "           70 65 63 5f \n",
    "           5f 00\n",
    "001903f4  61 6f 72 69      ds         \"aorigin\"\n",
    "           67 69 6e 00\n",
    "001903fc  61 68 61 73      ds         \"ahas_location\"\n",
    "           5f 6c 6f 63 \n",
    "           61 74 69 6f \n",
    "0019040a  61 5f 5f 63      ds         \"a__cached__\"\n",
    "           61 63 68 65 \n",
    "           64 5f 5f 00\n",
    "00190416  75 46 69 6e      ds         \"uFind me!\" <------\n",
    "           64 20 6d 65 \n",
    "           21 00\n",
    "00190420  61 74 65 78      ds         \"atext\"\n",
    "           74 00\n",
    "00190426  61 6d 65 74      ds         \"ametaclass\"\n",
    "           61 63 6c 61 \n",
    "           73 73 00\n",
    "00190431  54               PUSH       RSP\n",
    "00190432  00 00            ADD        byte ptr [RAX],AL\n",
    "00190434  00 00            ADD        byte ptr [RAX],AL\n",
    "00190436  61 5f 5f 70      ds         \"a__prepare__\"\n",
    "           72 65 70 61 \n",
    "           72 65 5f 5f 00\n",
    "00190443  54               PUSH       RSP\n",
    "00190444  02 00            ADD        AL,byte ptr [RAX]\n",
    "00190446  00 00            ADD        byte ptr [RAX],AL\n",
    "00190448  61 44 75 6d      ds         \"aDummy\"\n",
    "           6d 79 00\n",
    "0019044f  54               PUSH       RSP\n",
    "00190450  00 00            ADD        byte ptr [RAX],AL\n",
    "00190452  00 00            ADD        byte ptr [RAX],AL\n",
    "00190454  61 5f 5f 67      ds         \"a__getitem__\"\n",
    "           65 74 69 74 \n",
    "           65 6d 5f 5f 00\n",
    "00190461  75 25 73 2e      ds         \"u%s.__prepare__() must return a mapping, not\"\n",
    "           5f 5f 70 72 \n",
    "           65 70 61 72 \n",
    "00190491  61 5f 5f 6e      ds         \"a__name__\"\n",
    "           61 6d 65 5f \n",
    "           5f 00\n",
    "0019049b  75 3c 6d 65      ds         \"u<metaclass>\"\n",
    "           74 61 63 6c \n",
    "           61 73 73 3e 00\n",
    "001904a8  61 5f 5f 6d      ds         \"a__module__\"\n",
    "           6f 64 75 6c \n",
    "           65 5f 5f 00\n",
    "001904b4  61 44 75 6d      ds         \"aDummy\"\n",
    "           6d 79 00\n",
    "001904bb  61 5f 5f 71      ds         \"a__qualname__\"\n",
    "           75 61 6c 6e \n",
    "           61 6d 65 5f \n",
    "001904c9  61 71 77 65      ds         \"aqweasd123\" <------\n",
    "           61 73 64 31 \n",
    "           32 33 00\n",
    "001904d4  61 70 61 73      ds         \"apassword\" <------\n",
    "           73 77 6f 72 \n",
    "           64 00\n",
    "001904de  61 6d 61 69      ds         \"amain\"\n",
    "           6e 00\n",
    "001904e4  75 44 75 6d      ds         \"uDummy.main\"\n",
    "           6d 79 2e 6d \n",
    "           61 69 6e 00\n",
    "001904f0  75 62 69 6e      ds         \"ubin_module.py\"\n",
    "           5f 6d 6f 64 \n",
    "           75 6c 65 2e \n",
    "001904ff  75 3c 6d 6f      ds         \"u<module bin_module>\"\n",
    "           64 75 6c 65 \n",
    "           20 62 69 6e \n",
    "```"
   ]
  },
  {
   "cell_type": "markdown",
   "metadata": {},
   "source": [
    "Из неё можно подметить структуру класса, его функции и их названия, содержимое  и имена переменных. Как и ожидалось, по тексту `Find me!` удалось найти содержимое переменной `password`. Впрочем, методом перебора вполне можно было бы найти подходящую версию `python` и исследовать этот загруженный модуль на структуру и содержимое переменных.\n",
    "\n",
    "Попробуем пропатчить, т.е. изменить вывод бинарного модуля с `Hello world!` на `Some change!` (для простоты длина строк совпадает). Это достаточно просто, необходимо лишь изменить несколько байтов, например:"
   ]
  },
  {
   "cell_type": "markdown",
   "metadata": {},
   "source": [
    "hex код текстов из онлайн [конвертера](https://codebeautify.org/string-hex-converter):\n",
    "```bash\n",
    "Hello world! -> 48 65 6c 6c 6f 20 77 6f 72 6c 64 21\n",
    "Some change! -> 53 6f 6d 65 20 63 68 61 6e 67 65 21\n",
    "```"
   ]
  },
  {
   "cell_type": "markdown",
   "metadata": {},
   "source": [
    "Исходный код (файл [`so/bin_module.cpython-310-x86_64-linux-gnu.so`](https://github.com/cdies/nuitka_module/tree/main/so)):"
   ]
  },
  {
   "cell_type": "markdown",
   "metadata": {},
   "source": [
    "```bash\n",
    "001903c9  75 48 65 6c      ds         \"uHello world!\"\n",
    "          6c 6f 20 77 \n",
    "          6f 72 6c 64 \n",
    "```"
   ]
  },
  {
   "cell_type": "markdown",
   "metadata": {},
   "source": [
    "Изменённый код (файл [`compare/bin_module.cpython-310-x86_64-linux-gnu.so`](https://github.com/cdies/nuitka_module/tree/main/compare)):"
   ]
  },
  {
   "cell_type": "markdown",
   "metadata": {},
   "source": [
    "```bash\n",
    "001903c9  75 53 6f 6d      ds         \"uSome change!\"\n",
    "           65 20 63 68 \n",
    "           61 6e 67 65 \n",
    "```"
   ]
  },
  {
   "cell_type": "markdown",
   "metadata": {},
   "source": [
    "При попытке его импортировать, получаем ошибку:"
   ]
  },
  {
   "cell_type": "markdown",
   "metadata": {},
   "source": [
    "```python\n",
    "from compare import bin_module\n",
    "```\n",
    "```\n",
    "Error, corrupted constants object Aborted (core dumped)\n",
    "```"
   ]
  },
  {
   "cell_type": "markdown",
   "metadata": {},
   "source": [
    "Выходит, что напрямую пропатчить модуль не получится, ну что ж, у нас есть исходник, изменим его, скомпилируем в nuitka и посмотрим на отличия."
   ]
  },
  {
   "cell_type": "code",
   "execution_count": null,
   "metadata": {},
   "outputs": [],
   "source": [
    "text = 'Find me!'\n",
    "\n",
    "class Dummy:\n",
    "    password = 'qweasd123'\n",
    "    def main(self):\n",
    "        print('Some change!')"
   ]
  },
  {
   "cell_type": "markdown",
   "metadata": {},
   "source": [
    "Для сравнения двух файлов можно использовать `git`, например:\n",
    "\n",
    "`git diff --no-index compare/hex_code_hello_world.txt compare/hex_code_some_change.txt`\n",
    "\n",
    "В итоге получим отличия в **двух** местах(!), а не в одном ([`diff.txt`](https://github.com/cdies/nuitka_module/blob/main/compare/diff.txt)):"
   ]
  },
  {
   "cell_type": "markdown",
   "metadata": {},
   "source": [
    "|                    \t|          `hex_code_hello_world.txt`          \t|          `hex_code_some_change.txt`          \t|\n",
    "|--------------------\t|:--------------------------------------------:\t|:--------------------------------------------:\t|\n",
    "| Какая-то хеш сумма \t| 10d1 8c48                                    \t| 33d8 240e                                    \t|\n",
    "| hex код текста     \t| 536f 6d65 2063 6861 6e67 6521 (Some change!) \t| 4865 6c6c 6f20 776f 726c 6421 (Hello world!) \t|"
   ]
  },
  {
   "cell_type": "markdown",
   "metadata": {},
   "source": [
    "Как видно из таблицы, в первый раз, когда мы делали патч, мы поменяли только текст, однако, судя по всему, для значений переменных рассчитывается ещё какая-то хэш сумма, в итоге из-за этого и получилась ошибка при импорте."
   ]
  },
  {
   "cell_type": "markdown",
   "metadata": {},
   "source": [
    "### Заключение"
   ]
  },
  {
   "cell_type": "markdown",
   "metadata": {},
   "source": [
    "![](ci_cd.png)"
   ]
  },
  {
   "cell_type": "markdown",
   "metadata": {},
   "source": [
    "На диаграмме выше показан CI/CD процесс в самом обобщённом виде. На нём компиляция бинарных модулей расположена перед prod сервером, т.к. на тестовом сервере критически важен исходный код, а вот на проде его лучше бы скрыть (это зависит от требований безопасности к проекту).\n",
    "\n",
    "Текущая версия nuitka на данный момент 1.3, т.е. другими словами проект достаточно хорошо работает и уже вышел на релизы. К тому же, как сказано на сайте разработчика, nuitka способна [ускорить код до 3x раз](https://www.nuitka.net/pages/overview.html#now), вполне себе не плохой бонус.\n",
    "\n",
    "Подводя итог, можно сказать, что скорее всего разобраться в том, как работает бинарный модуль можно, однако для этого точно потребуется значительно больше квалификаций и навыков, чем если бы просто можно было поменять чистый python код.\n",
    "\n",
    "Спасибо за внимание."
   ]
  }
 ],
 "metadata": {
  "kernelspec": {
   "display_name": "Python 3 (ipykernel)",
   "language": "python",
   "name": "python3"
  },
  "language_info": {
   "codemirror_mode": {
    "name": "ipython",
    "version": 3
   },
   "file_extension": ".py",
   "mimetype": "text/x-python",
   "name": "python",
   "nbconvert_exporter": "python",
   "pygments_lexer": "ipython3",
   "version": "3.9.7"
  },
  "vscode": {
   "interpreter": {
    "hash": "31f2aee4e71d21fbe5cf8b01ff0e069b9275f58929596ceb00d14d90e3e16cd6"
   }
  }
 },
 "nbformat": 4,
 "nbformat_minor": 2
}
